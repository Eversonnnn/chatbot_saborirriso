{
  "cells": [
    {
      "cell_type": "markdown",
      "metadata": {
        "id": "view-in-github",
        "colab_type": "text"
      },
      "source": [
        "<a href=\"https://colab.research.google.com/github/Eversonnnn/chatbot_saborirriso/blob/main/Saborirriso.ipynb\" target=\"_parent\"><img src=\"https://colab.research.google.com/assets/colab-badge.svg\" alt=\"Open In Colab\"/></a>"
      ]
    },
    {
      "source": [
        "import os\n",
        "from google.colab import userdata\n",
        "import google.generativeai as genai\n",
        "from google.generativeai import GenerativeModel\n",
        "\n",
        "\n",
        "api_key = userdata.get('GOOGLE_API_KEY')\n",
        "\n",
        "\n",
        "genai.configure(api_key=api_key)\n",
        "\n",
        "memoria = \"\"\"\n",
        "Você é um assistente da marca Saborirriso, que produz temperos e conservas artesanais com ingredientes cultivados naturalmente por Everson.\n",
        "\n",
        "História:\n",
        "Everson cultiva os próprios ingredientes com carinho, criando produtos autênticos e cheios de sabor. A Saborirriso nasceu do desejo de unir qualidade artesanal e o amor pela boa comida.\n",
        "\n",
        "Usabilidade:\n",
        "Os temperos são práticos, naturais e ideais para o dia a dia. Podem ser usados em refogados, carnes, massas, saladas, molhos e muito mais. Os picles são perfeitos para sanduíches, tábuas de frios, acompanhamentos e receitas criativas.\n",
        "\n",
        "Produtos:\n",
        "1. Alho e Sal: versatilidade e sabor no dia a dia.\n",
        "2. Alho, Sal e Manjericão: aroma fresco para massas, pizzas e molhos.\n",
        "3. Alho, Sal e Pimenta Biquinho: leve picância adocicada, ótimo para molhos e legumes.\n",
        "4. Alho, Sal, Cebola e Salsinha: ideal para arroz, refogados, feijão e grelhados.\n",
        "5. Alho, Sal e Alecrim: sabor marcante, perfeito para batatas, carnes e assados.\n",
        "6. Alho, Sal e Pimenta Dedo-de-Moça: picante equilibrado, ótimo para pratos mais intensos.\n",
        "7. Picles de Jalapeño: picância leve, ideal para sanduíches, tacos, hambúrgueres e saladas.\n",
        "8. Picles de Habanero Chocolate: sabor intenso e defumado, combina com carnes e pratos fortes.\n",
        "\n",
        "Informações gerais:\n",
        "- Embalagem do tempero: 500g\n",
        "- Embalagemda conserva: 200g\n",
        "- Validade: 90 dias\n",
        "- Preço do tempero R$ 23,00\n",
        "- Preço da conserva R$ 15,00\n",
        "- Produção artesanal com ingredientes naturais\n",
        "\"\"\"\n",
        "\n",
        "def responder_usuario(pergunta):\n",
        "    prompt = memoria + f\"\\nUsuário: {pergunta}\\nAssistente:\"\n",
        "    MODEL_NAME = 'gemini-2.0-flash'\n",
        "    model = GenerativeModel(MODEL_NAME)\n",
        "    resposta = model.generate_content(prompt).text\n",
        "    return resposta\n",
        "\n",
        "if __name__ == \"__main__\":\n",
        "    print(\"Bem-vindo ao Chatbot da Saborirriso! (digite 'sair' para encerrar)\")\n",
        "    while True:\n",
        "        entrada = input(\"\\nVocê: \")\n",
        "        if entrada.lower() in [\"sair\", \"exit\"]:\n",
        "            print(\"Até logo! 🌶️\")\n",
        "            break\n",
        "        resposta = responder_usuario(entrada)\n",
        "        print(\"\\nSaborirriso:\", resposta)"
      ],
      "cell_type": "code",
      "metadata": {
        "id": "1yE_G5wA_lJS"
      },
      "execution_count": null,
      "outputs": []
    },
    {
      "cell_type": "code",
      "source": [],
      "metadata": {
        "id": "ZvWOdIpezCC6"
      },
      "execution_count": null,
      "outputs": []
    }
  ],
  "metadata": {
    "colab": {
      "provenance": [],
      "authorship_tag": "ABX9TyMN2XcLrJOATXiGcllYkvrm",
      "include_colab_link": true
    },
    "kernelspec": {
      "display_name": "Python 3",
      "name": "python3"
    },
    "language_info": {
      "name": "python"
    }
  },
  "nbformat": 4,
  "nbformat_minor": 0
}